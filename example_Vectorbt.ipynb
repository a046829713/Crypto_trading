{
 "cells": [
  {
   "cell_type": "code",
   "execution_count": 1,
   "metadata": {},
   "outputs": [],
   "source": [
    "import os\n",
    "import numpy as np\n",
    "import pandas as pd\n",
    "import yfinance as yf\n",
    "from datetime import datetime\n",
    "import pytz\n",
    "from numba import njit\n",
    "\n",
    "# from pypfopt.efficient_frontier import EfficientFrontier\n",
    "# from pypfopt import risk_models\n",
    "# from pypfopt import expected_returns\n",
    "# from pypfopt import base_optimizer\n",
    "\n",
    "import vectorbt as vbt\n",
    "from vectorbt.generic.nb import nanmean_nb\n",
    "from vectorbt.portfolio.nb import order_nb, sort_call_seq_nb\n",
    "from vectorbt.portfolio.enums import SizeType, Direction"
   ]
  },
  {
   "cell_type": "code",
   "execution_count": 2,
   "metadata": {},
   "outputs": [],
   "source": [
    "# Define params\n",
    "symbols = ['FB', 'AMZN', 'NFLX', 'GOOG', 'AAPL']\n",
    "start_date = datetime(2020, 1, 1, tzinfo=pytz.utc)\n",
    "end_date = datetime(2020, 9, 1, tzinfo=pytz.utc)\n",
    "num_tests = 2000\n",
    "\n",
    "vbt.settings.array_wrapper['freq'] = 'days'\n",
    "vbt.settings.returns['year_freq'] = '252 days'\n",
    "vbt.settings.portfolio['seed'] = 42\n",
    "vbt.settings.portfolio.stats['incl_unrealized'] = True"
   ]
  },
  {
   "cell_type": "code",
   "execution_count": 3,
   "metadata": {},
   "outputs": [
    {
     "name": "stdout",
     "output_type": "stream",
     "text": [
      "- FB: No data found, symbol may be delisted\n"
     ]
    },
    {
     "name": "stderr",
     "output_type": "stream",
     "text": [
      "/home/abcd/桌面/mydir/backtesting/lib/python3.8/site-packages/vectorbt/data/base.py:527: UserWarning: Symbols have mismatching index. Setting missing data points to NaN.\n",
      "  data = cls.align_index(data, missing=missing_index)\n"
     ]
    },
    {
     "ename": "ValueError",
     "evalue": "Symbols have mismatching columns",
     "output_type": "error",
     "traceback": [
      "\u001b[0;31m---------------------------------------------------------------------------\u001b[0m",
      "\u001b[0;31mValueError\u001b[0m                                Traceback (most recent call last)",
      "Cell \u001b[0;32mIn [3], line 1\u001b[0m\n\u001b[0;32m----> 1\u001b[0m yfdata \u001b[39m=\u001b[39m vbt\u001b[39m.\u001b[39;49mYFData\u001b[39m.\u001b[39;49mdownload(symbols, start\u001b[39m=\u001b[39;49mstart_date, end\u001b[39m=\u001b[39;49mend_date)\n\u001b[1;32m      3\u001b[0m \u001b[39mprint\u001b[39m(yfdata\u001b[39m.\u001b[39msymbols)\n",
      "File \u001b[0;32m~/桌面/mydir/backtesting/lib/python3.8/site-packages/vectorbt/data/base.py:587\u001b[0m, in \u001b[0;36mData.download\u001b[0;34m(cls, symbols, tz_localize, tz_convert, missing_index, missing_columns, wrapper_kwargs, **kwargs)\u001b[0m\n\u001b[1;32m    584\u001b[0m     data[s] \u001b[39m=\u001b[39m \u001b[39mcls\u001b[39m\u001b[39m.\u001b[39mdownload_symbol(s, \u001b[39m*\u001b[39m\u001b[39m*\u001b[39m_kwargs)\n\u001b[1;32m    586\u001b[0m \u001b[39m# Create new instance from data\u001b[39;00m\n\u001b[0;32m--> 587\u001b[0m \u001b[39mreturn\u001b[39;00m \u001b[39mcls\u001b[39;49m\u001b[39m.\u001b[39;49mfrom_data(\n\u001b[1;32m    588\u001b[0m     data,\n\u001b[1;32m    589\u001b[0m     tz_localize\u001b[39m=\u001b[39;49mtz_localize,\n\u001b[1;32m    590\u001b[0m     tz_convert\u001b[39m=\u001b[39;49mtz_convert,\n\u001b[1;32m    591\u001b[0m     missing_index\u001b[39m=\u001b[39;49mmissing_index,\n\u001b[1;32m    592\u001b[0m     missing_columns\u001b[39m=\u001b[39;49mmissing_columns,\n\u001b[1;32m    593\u001b[0m     wrapper_kwargs\u001b[39m=\u001b[39;49mwrapper_kwargs,\n\u001b[1;32m    594\u001b[0m     download_kwargs\u001b[39m=\u001b[39;49mkwargs\n\u001b[1;32m    595\u001b[0m )\n",
      "File \u001b[0;32m~/桌面/mydir/backtesting/lib/python3.8/site-packages/vectorbt/data/base.py:528\u001b[0m, in \u001b[0;36mData.from_data\u001b[0;34m(cls, data, tz_localize, tz_convert, missing_index, missing_columns, wrapper_kwargs, **kwargs)\u001b[0m\n\u001b[1;32m    526\u001b[0m \u001b[39m# Align index and columns\u001b[39;00m\n\u001b[1;32m    527\u001b[0m data \u001b[39m=\u001b[39m \u001b[39mcls\u001b[39m\u001b[39m.\u001b[39malign_index(data, missing\u001b[39m=\u001b[39mmissing_index)\n\u001b[0;32m--> 528\u001b[0m data \u001b[39m=\u001b[39m \u001b[39mcls\u001b[39;49m\u001b[39m.\u001b[39;49malign_columns(data, missing\u001b[39m=\u001b[39;49mmissing_columns)\n\u001b[1;32m    530\u001b[0m \u001b[39m# Create new instance\u001b[39;00m\n\u001b[1;32m    531\u001b[0m symbols \u001b[39m=\u001b[39m \u001b[39mlist\u001b[39m(data\u001b[39m.\u001b[39mkeys())\n",
      "File \u001b[0;32m~/桌面/mydir/backtesting/lib/python3.8/site-packages/vectorbt/data/base.py:437\u001b[0m, in \u001b[0;36mData.align_columns\u001b[0;34m(cls, data, missing)\u001b[0m\n\u001b[1;32m    435\u001b[0m     columns \u001b[39m=\u001b[39m columns\u001b[39m.\u001b[39mintersection(v\u001b[39m.\u001b[39mcolumns)\n\u001b[1;32m    436\u001b[0m \u001b[39melif\u001b[39;00m missing \u001b[39m==\u001b[39m \u001b[39m'\u001b[39m\u001b[39mraise\u001b[39m\u001b[39m'\u001b[39m:\n\u001b[0;32m--> 437\u001b[0m     \u001b[39mraise\u001b[39;00m \u001b[39mValueError\u001b[39;00m(\u001b[39m\"\u001b[39m\u001b[39mSymbols have mismatching columns\u001b[39m\u001b[39m\"\u001b[39m)\n\u001b[1;32m    438\u001b[0m \u001b[39melse\u001b[39;00m:\n\u001b[1;32m    439\u001b[0m     \u001b[39mraise\u001b[39;00m \u001b[39mValueError\u001b[39;00m(\u001b[39mf\u001b[39m\u001b[39m\"\u001b[39m\u001b[39mmissing=\u001b[39m\u001b[39m'\u001b[39m\u001b[39m{\u001b[39;00mmissing\u001b[39m}\u001b[39;00m\u001b[39m'\u001b[39m\u001b[39m is not recognized\u001b[39m\u001b[39m\"\u001b[39m)\n",
      "\u001b[0;31mValueError\u001b[0m: Symbols have mismatching columns"
     ]
    }
   ],
   "source": [
    "yfdata = vbt.YFData.download(symbols, start=start_date, end=end_date)\n",
    "\n",
    "print(yfdata.symbols)"
   ]
  }
 ],
 "metadata": {
  "kernelspec": {
   "display_name": "Python 3.8.8 ('backtesting')",
   "language": "python",
   "name": "python3"
  },
  "language_info": {
   "codemirror_mode": {
    "name": "ipython",
    "version": 3
   },
   "file_extension": ".py",
   "mimetype": "text/x-python",
   "name": "python",
   "nbconvert_exporter": "python",
   "pygments_lexer": "ipython3",
   "version": "3.8.8"
  },
  "orig_nbformat": 4,
  "vscode": {
   "interpreter": {
    "hash": "17149858e2ff245117455bcb5c39ae368cfee5a54309c5a39ca0d1faac2cb8c0"
   }
  }
 },
 "nbformat": 4,
 "nbformat_minor": 2
}
